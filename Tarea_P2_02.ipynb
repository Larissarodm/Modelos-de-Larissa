{
 "cells": [
  {
   "cell_type": "code",
   "execution_count": null,
   "id": "5735f0d3-ed6e-4066-83f9-6b9a245852b6",
   "metadata": {},
   "outputs": [],
   "source": [
    "# Diferencia entre desviación estándar y varianza\n",
    "\n",
    "# - Desviación estándar: En pocas palabras, es la raíz cuadrda de la varianza. Representa en promedio qué tanto se desvían los datos de la media. \n",
    "# Está en las mismas unidades que los datos originales. \n",
    "\n",
    "# - Varianza: La varianza vendría siendo el promedio de las diferencias al cuadrado entre datos y la media. \n",
    "# Es un indicador de cuánto varían o qué tan dispersos o alejados están los datos de su media."
   ]
  }
 ],
 "metadata": {
  "kernelspec": {
   "display_name": "Python 3 (ipykernel)",
   "language": "python",
   "name": "python3"
  },
  "language_info": {
   "codemirror_mode": {
    "name": "ipython",
    "version": 3
   },
   "file_extension": ".py",
   "mimetype": "text/x-python",
   "name": "python",
   "nbconvert_exporter": "python",
   "pygments_lexer": "ipython3",
   "version": "3.12.4"
  }
 },
 "nbformat": 4,
 "nbformat_minor": 5
}
