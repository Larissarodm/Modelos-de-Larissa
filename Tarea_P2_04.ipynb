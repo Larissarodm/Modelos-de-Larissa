{
 "cells": [
  {
   "cell_type": "code",
   "execution_count": 15,
   "id": "43a90b4d-00ff-458c-bfb4-348835e39fed",
   "metadata": {},
   "outputs": [
    {
     "name": "stdin",
     "output_type": "stream",
     "text": [
      "Especifica el número de columnas que tendrá el DataFrame:  5\n",
      "Introduce los datos de la columna 1, separados por comas:  4, 8, 9\n",
      "Introduce los datos de la columna 2, separados por comas:  5, 12, 6\n",
      "Introduce los datos de la columna 3, separados por comas:  6, 6, 9\n",
      "Introduce los datos de la columna 4, separados por comas:  1, 10, 9\n",
      "Introduce los datos de la columna 5, separados por comas:  5, 0, 0\n",
      "Introduce los nombres de las columnas, separados por comas:  A, B, C, D, E\n",
      "Introduce los nombres de las filas, separados por comas:  X, Y, Z\n"
     ]
    },
    {
     "name": "stdout",
     "output_type": "stream",
     "text": [
      "\n",
      "DataFrame generado:\n",
      "     A    B   C    D   E\n",
      "X    4    5   6    1   5\n",
      " Y   8   12   6   10   0\n",
      " Z   9    6   9    9   0\n"
     ]
    }
   ],
   "source": [
    "import pandas as pd \n",
    "import numpy as np\n",
    "# Especificar el número de columnas\n",
    "num_columns = int(input(\"Especifica el número de columnas que tendrá el DataFrame: \"))\n",
    "\n",
    "# Obtener los datos de cada columna\n",
    "data = []\n",
    "for i in range(num_columns):\n",
    "    column_data = input(f\"Introduce los datos de la columna {i+1}, separados por comas: \").split(',')\n",
    "    data.append(column_data)\n",
    "\n",
    "# Obtener los nombres de las columnas\n",
    "column_names = input(\"Introduce los nombres de las columnas, separados por comas: \").split(',')\n",
    "\n",
    "# Obtener los nombres de las filas\n",
    "row_names = input(\"Introduce los nombres de las filas, separados por comas: \").split(',')\n",
    "\n",
    "# Crear el DataFrame\n",
    "df = pd.DataFrame({column_names[i]: data[i] for i in range(num_columns)}, index=row_names)\n",
    "\n",
    "# Mostrar el DataFrame\n",
    "print(\"\\nDataFrame generado:\")\n",
    "print(df)\n",
    "\n"
   ]
  },
  {
   "cell_type": "code",
   "execution_count": 1,
   "id": "0958931d-0e38-4152-8482-b450be9fb228",
   "metadata": {},
   "outputs": [],
   "source": []
  },
  {
   "cell_type": "code",
   "execution_count": null,
   "id": "66a824d7-d831-4196-bce3-b5ca3d91aac5",
   "metadata": {},
   "outputs": [],
   "source": []
  }
 ],
 "metadata": {
  "kernelspec": {
   "display_name": "Python 3 (ipykernel)",
   "language": "python",
   "name": "python3"
  },
  "language_info": {
   "codemirror_mode": {
    "name": "ipython",
    "version": 3
   },
   "file_extension": ".py",
   "mimetype": "text/x-python",
   "name": "python",
   "nbconvert_exporter": "python",
   "pygments_lexer": "ipython3",
   "version": "3.12.4"
  }
 },
 "nbformat": 4,
 "nbformat_minor": 5
}
