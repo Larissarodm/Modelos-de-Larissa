{
 "cells": [
  {
   "cell_type": "code",
   "execution_count": null,
   "id": "746eac02-cead-4ae6-a8b8-00fdd2e305aa",
   "metadata": {},
   "outputs": [],
   "source": [
    "# ¿QUÉ ES UN FICHERO?\n",
    "\n",
    "## Un fichero es un archivo que usamos para almacenar datos que después podemos guardar y recuperar.\n",
    "## Es lo mismo que cualquier otro archivo en mi computadora, podemos interactuar con él desde algún programa, y a´si automatizar la lectura y escritura de datos.\n",
    "## Nos rive, por ejemplo, para cuando nuestro programa genere grandes volúmenes de información como los resultados de un experimento, e smás viable hacer uso de ficheros para automatizar funciones con los datos. \n",
    "## Nos permite recuperar información."
   ]
  }
 ],
 "metadata": {
  "kernelspec": {
   "display_name": "Python 3 (ipykernel)",
   "language": "python",
   "name": "python3"
  },
  "language_info": {
   "codemirror_mode": {
    "name": "ipython",
    "version": 3
   },
   "file_extension": ".py",
   "mimetype": "text/x-python",
   "name": "python",
   "nbconvert_exporter": "python",
   "pygments_lexer": "ipython3",
   "version": "3.12.4"
  }
 },
 "nbformat": 4,
 "nbformat_minor": 5
}
